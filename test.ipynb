{
 "metadata": {
  "language_info": {
   "codemirror_mode": {
    "name": "ipython",
    "version": 3
   },
   "file_extension": ".py",
   "mimetype": "text/x-python",
   "name": "python",
   "nbconvert_exporter": "python",
   "pygments_lexer": "ipython3",
   "version": "3.8.5"
  },
  "orig_nbformat": 4,
  "kernelspec": {
   "name": "python3",
   "display_name": "Python 3.8.5 64-bit ('base': conda)"
  },
  "interpreter": {
   "hash": "01a53f6aedbd0da25218059d2dc33085a259499401f59794919e6f864bde72bd"
  }
 },
 "nbformat": 4,
 "nbformat_minor": 2,
 "cells": [
  {
   "cell_type": "code",
   "execution_count": 1,
   "metadata": {},
   "outputs": [],
   "source": [
    "import json\n",
    "import pandas as pd\n",
    "from textblob import TextBlob\n",
    "\n",
    "def read_json(json_file: str)->list:\n",
    "    \"\"\"\n",
    "    json file reader to open and read json files into a list\n",
    "    Args:\n",
    "    -----\n",
    "    json_file: str - path of a json file\n",
    "    \n",
    "    Returns\n",
    "    -------\n",
    "    length of the json file and a list of json\n",
    "    \"\"\"\n",
    "    \n",
    "    tweets_data = []\n",
    "    for tweets in open(json_file,'r'):\n",
    "        tweets_data.append(json.loads(tweets))\n",
    "    \n",
    "    \n",
    "    return len(tweets_data), tweets_data"
   ]
  },
  {
   "cell_type": "code",
   "execution_count": null,
   "metadata": {},
   "outputs": [],
   "source": []
  },
  {
   "cell_type": "code",
   "execution_count": 16,
   "metadata": {},
   "outputs": [],
   "source": [
    "class TweetDfExtractor():\n",
    "    \"\"\"\n",
    "    this function will parse tweets json into a pandas dataframe\n",
    "    \n",
    "    Return\n",
    "    ------\n",
    "    dataframe\n",
    "    \"\"\"\n",
    "    def __init__(self, tweets_list):\n",
    "        \n",
    "        self.tweets_list = tweets_list\n",
    "       \n",
    "\n",
    "\n",
    "    # an example function\n",
    "    def find_statuses_count(self)->list:\n",
    "        \n",
    "        statuses_count=[]\n",
    "        for i in self.tweets_list:\n",
    "            statuses_count.append(i['user']['statuses_count'])\n",
    "\n",
    "        return statuses_count \n",
    "        \n",
    "        \n",
    "    def find_full_text(self)->list:\n",
    "        text=[]\n",
    "        for i in self.tweets_list:\n",
    "            text.append(i['text'])\n",
    "            \n",
    "        return text \n",
    "\n",
    "    def find_created_time(self)->list:\n",
    "        created_at=[]\n",
    "        for i in self.tweets_list:\n",
    "            created_at.append(i['created_at'])\n",
    "       \n",
    "        return created_at    \n",
    "    def find_source(self)->list:\n",
    "        source = []\n",
    "        for i in self.tweets_list:\n",
    "            source.append(i['source'])\n",
    "\n",
    "        return source\n",
    "    \n",
    "    def find_followers_count(self)->list:\n",
    "        followers_count = []\n",
    "        for i in self.tweets_list:\n",
    "            followers_count.append(i['user']['followers_count'])\n",
    "        return followers_count\n",
    "    def get_column_values(self, column_name):\n",
    "            return [x.get(column_name, None) for x in self.tweets_list]\n",
    "    def find_lang(self)->list:\n",
    "        lang = []\n",
    "        for i in self.tweets_list:\n",
    "            lang.append(i['lang'])\n",
    "        return lang\n",
    "    def find_hashtags(self)->list:\n",
    "        hashtags = []\n",
    "        for i in self.tweets_list:\n",
    "            hashtags.append(i['entities']['hashtags'])\n",
    "        return hashtags    \n",
    "   \n",
    "    def find_mentions(self)->list:\n",
    "        mentions = self.get_column_values('mentions')\n",
    "        return mentions    \n",
    "    def find_sentiments(self, text)->list:\n",
    "            polarity = []\n",
    "            subjectivity = []\n",
    "\n",
    "            for each in text:\n",
    "                if (each):\n",
    "                    result = TextBlob(str(each)).sentiment\n",
    "                    polarity.append(result.polarity)\n",
    "                    subjectivity.append(result.subjectivity)\n",
    "            return subjectivity#polarity\n",
    "if __name__ == \"__main__\":\n",
    "    # required column to be generated you should be creative and add more features\n",
    "    columns = ['created_at', 'source', 'original_text','clean_text', 'sentiment','polarity','subjectivity', 'lang', 'favorite_count', 'retweet_count', \n",
    "    'original_author', 'screen_count', 'followers_count','friends_count','possibly_sensitive', 'hashtags', 'user_mentions', 'place', 'place_coord_boundaries']\n",
    "    _, tweet_list = read_json(\"data/covid19.json\")\n",
    "    tweet = TweetDfExtractor(tweet_list)\n",
    "    #tweet_df = tweet.get_tweet_df() \n",
    "\n",
    "  "
   ]
  },
  {
   "cell_type": "code",
   "execution_count": null,
   "metadata": {},
   "outputs": [],
   "source": []
  },
  {
   "cell_type": "code",
   "execution_count": 17,
   "metadata": {},
   "outputs": [],
   "source": [
    "#tweet_list[0]\n"
   ]
  },
  {
   "cell_type": "code",
   "execution_count": 19,
   "metadata": {},
   "outputs": [
    {
     "output_type": "execute_result",
     "data": {
      "text/plain": [
       "our expired vaccines. Just another war crime by Israel. https://t.co/TI0vK8DQLw',\n",
       " 'RT @CDCgov: How do we know #COVID19 vaccines are safe?\\n\\nCDC &amp; @US_FDA have safety monitoring systems to make sure every vaccine is as safe…',\n",
       " \"RT @observerug: Museveni says #Uganda's #COVID19 vaccine will be better than all the existing vaccines because it covers all the existing v…\",\n",
       " 'RT @BSCTZA: As at 18 June 105,966 active cases of Covid-19 in South Africa #SouthAfrica #Covid19SA #COVID19inSA #Covid19 #Covid_19 #coronav…',\n",
       " 'RT @farai: Critical thread. My brother’s mother died of Covid this spring in Southern Africa and we should not be complacent about the cost…',\n",
       " 'Excuse my ignorance.  Are talking about vaccine or treatment. Have you misquoted museveni? Because vaccines do cure… https://t.co/2gbDdfvcho',\n",
       " 'The West should give vaccines for all Taiwanese.\\nThen gives them all best weapons to defend themselves and defend u… https://t.co/AQH5d5yrMY',\n",
       " 'RT @NickB09121299: The COVID19 Delta Variant has arrived In the united States with many states reporting up tick in cases and deaths. The M…',\n",
       " 'RT @MoetiTshidi: Africa is in the midst of a full blown third wave. The sobering trajectory of surging cases should rouse everyone into urg…',\n",
       " 'RT @CDCgov: How do we know #COVID19 vaccines are safe?\\n\\nCDC &amp; @US_FDA have safety monitoring systems to make sure every vaccine is as safe…',\n",
       " 'RT @gregggonsalves: For gods sake: #GeorgeSoros is about to kill hundreds of public health and human rights groups in a “reorganization” of…',\n",
       " 'RT @VaxHuntersCan: [MB] 🤩 WINNIPEG 🤩\\nmRNA vaccines available!\\n📍Ray of Hope Pharmacy (1 775 Henderson Hwy)\\n📞 204-800-2593\\nhttps://t.co/jdWwg…',\n",
       " 'RT @allafrica: Covid-19 Cases Surge in Africa, Near First Wave Peak - WHO https://t.co/XwCHq980WU #Africa #Coronavirus #Covid19 https://t.c…',\n",
       " \"RT @FabiolaOPerales: I don't understand what's going on with China 🇨🇳. 😒\\nWhy market a vaccine without proper effectiveness? What should be…\",\n",
       " 'Feeling grateful &amp; fortunate after my #Covid19 #vaccination today, knowing vaccines save lives &amp; it’s critical to g… https://t.co/0QpuhfOSZd',\n",
       " 'Wow we are not safety  at all  please  stay  safe  😷😷😷😷',\n",
       " '@JayWamsted Why isn’t CDC putting in place more efforts to stop #Covid19 transmission? It is common knowledge in pu… https://t.co/EYxdzW2vIO',\n",
       " 'RT @shawajason: Liars. You tried to load off your expired vaccines. Just another war crime by Israel. https://t.co/TI0vK8DQLw',\n",
       " 'RT @WeaponizedNews: Crimes Against Humanity 👇 https://t.co/u4ra1DDn8z',\n",
       " 'RT @ProfPMiddleton: .@NicolaSturgeon reports that whereas around 13% of positive #Covid19 cases ended up in hospital at the beginning of th…',\n",
       " 'RT @TelGlobalHealth: \"Africa is in the midst of a full-blown third wave,\" @MoetiTshidi said. \"The sobering trajectory of surging cases shou…',\n",
       " 'RT @Senators: Expect to see some different kind of shots at @CdnTireCtr next week!\\n\\xa0\\nDo your part and get your #Covid19 vaccine.\\n\\nDETAILS:…',\n",
       " 'RT @stkirsch: **BIG NEWS**: Up to 25,800 may have been killed by the COVID vaccine.  I bet that this is a lower bound on the number killed…',\n",
       " 'Alpha, Beta &amp; Delta: We break down everything you need to know about the three #COVID19 variants that have been det… https://t.co/IN5AiroJ0U',\n",
       " 'Despite #COVID19 lockdowns and travel restrictions, still nearly 3 million people fled their homes from war, violen… https://t.co/DA1QZ7Ff06',\n",
       " 'Tomorrow, Bucks County will celebrate Juneteenth with FREE #COVID19 vaccines! Walk-ins welcome, and no insurance is… https://t.co/Pau4dEIfNY',\n",
       " 'On hour 2 of #SciFriLive📻: \\n\\n😷 #COVID19 vaccines may not be enough to protect immunocompromised people\\n📚 The best… https://t.co/jWPosJ7y5S',\n",
       " 'Appearing on @Benzinga Power Hour, Vaxart CEO Andrei Floroiu calls our oral #COVID19 tablet vaccine now under devel… https://t.co/P1W6nxqRyH',\n",
       " 'This year, vaccines are playing a particularly important role in #healthcare as our country continues to combat the… https://t.co/xbxGCoeZFw',\n",
       " 'Ohhhh great! Fk',\n",
       " 'Pin Code:[411040] \\nChatrapati Shahu Maharaj PMCG\\nVaccines: COVAXIN,\\nMin Age Limit: [45,18],\\nDose1 Capacity: 0,\\nDose… https://t.co/1e2XcbddO4',\n",
       " 'Everybody aged 18+ is now eligible for the #Covid19 vaccine.\\n\\nJenny has been to get her second dose of the vaccine,… https://t.co/HAJyHLLBlR',\n",
       " 'RT @Winnie_Byanyima: Our people are dying.  Hospitals, mortuaries are full. Families, communities failing to cope, nursing and burying dail…',\n",
       " 'RT @Vaxart: Appearing on @Benzinga Power Hour, Vaxart CEO Andrei Floroiu calls our oral #COVID19 tablet vaccine now under development \"revo…',\n",
       " 'RT @scifri: On hour 2 of #SciFriLive📻: \\n\\n😷 #COVID19 vaccines may not be enough to protect immunocompromised people\\n📚 The best #SciFi books…',\n",
       " \"RT @sarajerving: COVID-19 cases across Africa have increased by 52% in the past week &amp; deaths have increased by 32%, said WHO's Tedros, add…\",\n",
       " 'What would happen if governments abolished patents? Professor @Colombatto answers in his latest report.… https://t.co/fnym8g2Ait',\n",
       " '#COVID19 vaccines are effective at protecting you from getting sick. Based on what we know, people who have been fu… https://t.co/PdxPjmNEWv',\n",
       " 'Comparing the #Covid19 vaccines developed by Pfizer, Moderna, and Johnson &amp; Johnson #VaccinesSaveLives #MedTwitter\\nhttps://t.co/JvFGUd6WFX',\n",
       " \"Morocco's c current coronavirus situation 18th June 2021:\\nCases: 525,924\\nDeaths: 9,233\\nRecovered: 512,937\\nActive: 3… https://t.co/QPJTbW4jQf\",\n",
       " '@MarmaladeMax I knew Ivermectin was safe and worked against covid19 last summer. As a scientist myself, I knew with… https://t.co/yAPHiCjDM0',\n",
       " 'RT @shawajason: Liars. You tried to load off your expired vaccines. Just another war crime by Israel. https://t.co/TI0vK8DQLw',\n",
       " 'Comparing the #Covid19 vaccines developed by Pfizer, Moderna, and Johnson &amp; Johnson #VaccinesSaveLives #MedTwitter\\nhttps://t.co/Rf8Y87GjWz',\n",
       " 'Comparing the #Covid19 vaccines developed by Pfizer, Moderna, and Johnson &amp; Johnson #VaccinesSaveLives #MedTwitter\\nhttps://t.co/FoSZcu7Tpw',\n",
       " 'Pin Code:[411004] \\nSanjeevan Hospital Erand PMCP\\nVaccines: COVISHIELD,\\nMin Age Limit: [18,45],\\nDose1 Capacity: 1,12… https://t.co/uxBfucwW9a',\n",
       " 'Pin Code:[411038] \\nBSM-Deenanath Hosp Pvt PMC\\nVaccines: COVISHIELD,\\nMin Age Limit: [18,45],\\nDose1 Capacity: 1058,0,… https://t.co/KxuAYULzPS',\n",
       " 'Pin Code:[411027] \\nDistrict Hospital Aundh\\nVaccines: COVAXIN,\\nMin Age Limit: [18,45],\\nDose1 Capacity: 0,\\nDose2 Capa… https://t.co/wyFYlHi6wZ',\n",
       " 'Pin Code:[411004] \\nBMCC-DEENANATH HOSPITAL PVT\\nVaccines: COVISHIELD,\\nMin Age Limit: [18,45],\\nDose1 Capacity: 413,27… https://t.co/vedskw2J3t',\n",
       " 'RT @CDCDirector: I’m pleased to welcome the #WeCanDoThis bus to Atlanta today! Remember, there are 3 easy ways to find a #COVID19 vaccine n…',\n",
       " 'RT @DrLiMengYAN1: About #COVID19 vaccines @ndtv, 14 Jun (1/2)\\n- Don’t expect very efficient &amp; safe COVID19 vax\\n- In short term, vax from go…',\n",
       " 'RT @globalhlthtwit: Dr Moeti is head of WHO in Africa, and one of the best public health experts and leaders I know. Hers is a desperate re…',\n",
       " 'VACCINES ARE SAFE EVERYONE! PLEASE DO THE RIGHT THING: #GetVaccinated! #WeCanDoThis!',\n",
       " 'RT @AIPAC: Israel is helping save Palestinian lives.\\n\\nWhile the Palestinian Authority has full responsibility for Palestinian healthcare in…',\n",
       " '“... #vaccines would be in the form of ‘a loan,’ with #Israel to give Ramallah doses from its stockpile of @Pfizer… https://t.co/cpm1IgRKla',\n",
       " \"RT @observerug: Museveni says #Uganda's #COVID19 vaccine will be better than all the existing vaccines because it covers all the existing v…\",\n",
       " '“The #Palestinian Authority canceled an agreement to exchange #COVID19 #vaccines with #Israel, saying [they] were e… https://t.co/kywBitWQ9r',\n",
       " 'RT @DrEricDing: 17) the main problem with #DeltaVariant is that the 1 dose strategy isn’t good anymore. 1 dose vaccine efficacy is likely j…',\n",
       " '#FridayVaccineFacts: what is #BringingSummerBack?\\n\\nBring Summer Back is a fun, flexible, community-centered approac… https://t.co/nhzVtDxwxN',\n",
       " \"RT @N_RamchanderRao: Covid19 vaccines reach the remotest places of Jammu &amp; Kashmir's Gujjars, Bakarwals community. \\n\\nHealthcare staff, @BJP…\",\n",
       " 'RT @scifri: On hour 2 of #SciFriLive📻: \\n\\n😷 #COVID19 vaccines may not be enough to protect immunocompromised people\\n📚 The best #SciFi books…',\n",
       " 'RT @GovSisolak: These vaccines have been proven to be effective in preventing severe illness, hospitalization &amp; death. It’s how we avoid ev…',\n",
       " 'RT @Vaxart: Appearing on @Benzinga Power Hour, Vaxart CEO Andrei Floroiu calls our oral #COVID19 tablet vaccine now under development \"revo…',\n",
       " 'RT @ncdhhs: #FridayVaccineFacts: what is #BringingSummerBack?\\n\\nBring Summer Back is a fun, flexible, community-centered approach to providi…',\n",
       " 'RT @MoetiTshidi: Africa is in the midst of a full blown third wave. The sobering trajectory of surging cases should rouse everyone into urg…',\n",
       " 'RT @wef: From beer to blenders - 5 creative ways people are being persuaded to get their COVID-19 vaccination https://t.co/yUFzQCxw4d #COVI…',\n",
       " 'RT @Winnie_Byanyima: We are dying! Ugandans need the world to stand with them. We need oxygen, PPEs, #COVID19 vaccines and money to pay our…',\n",
       " 'RT @DrEricDing: 17) the main problem with #DeltaVariant is that the 1 dose strategy isn’t good anymore. 1 dose vaccine efficacy is likely j…',\n",
       " 'RT @missinmycomfort: Could the U.S. Have Saved More Lives? 5 Alternate Scenarios for the Vaccine Rollout \\n#COVID19 #MARKEDBYCOVID\\n@Survivor…',\n",
       " 'Proud to stand alongside @shailajateacher &amp; CM @vijayanpinarayi, two leaders from my home state of Kerala in this g… https://t.co/HmBG8rOWc9',\n",
       " 'RT @RutiMeyer: Correct',\n",
       " 'RT @PeterHotez: I think it’s important that we don’t sell COVAX short. It still has a lot going for it and is innovative in its design. But…',\n",
       " 'RT @MediccGail: BioCubaFarma says phase 3 clinical trial results for #Cuban #COVID19 #vaccines are due out in a few days. Soberana02 (with…',\n",
       " 'Covid live: Delta variant becoming globally dominant, WHO says as expert calls Africa’s case trajectory ‘very, very… https://t.co/BWHGUUeGRI',\n",
       " 'RT @DrEricDing: 11) But is it just a SinoVac issue though? Unclear, in a Calgary 🇨🇦 hospital, or the 6 #DeltaVariant infected healthcare wo…',\n",
       " \"RT @LordsofD: I can't believe people are still buying into the lies and propaganda. And yet despite the wealth of information with regards…\",\n",
       " 'RT @Bhekisisa_MG: Alpha, Beta &amp; Delta: We break down everything you need to know about the three #COVID19 variants that have been detected…',\n",
       " 'RT @CDCDirector: I’m pleased to welcome the #WeCanDoThis bus to Atlanta today! Remember, there are 3 easy ways to find a #COVID19 vaccine n…',\n",
       " 'RT @joannachiu: \"Can I be fired if I don’t get vaccinated?\" \\n\\n\"Can I ask my employee to get vaccinated?\" \\n\\nThese were some questions people…',\n",
       " 'RT @RealJoelSmalley: Yet another amazingly qualified and courageous doctor, Roger Hodkinson, speaks out against the crazy government policy…',\n",
       " 'RT @GooglePayIndia: Getting the right information about the vaccines can really pay off💉💪. Learn more here👇',\n",
       " 'RT @CDCDirector: I’m pleased to welcome the #WeCanDoThis bus to Atlanta today! Remember, there are 3 easy ways to find a #COVID19 vaccine n…',\n",
       " 'RT @MoetiTshidi: Africa is in the midst of a full blown third wave. The sobering trajectory of surging cases should rouse everyone into urg…',\n",
       " 'RT @MoetiTshidi: Africa is in the midst of a full blown third wave. The sobering trajectory of surging cases should rouse everyone into urg…',\n",
       " \"@saulowize I'm pissed at Musenero. I owe people apologies for defending her just because she was my General Medicin… https://t.co/tS3kBTDnvl\",\n",
       " '@kramTT There is this breakdown from Kalain ⤵\\nhttps://t.co/nhWAgZUdQK',\n",
       " 'RT @AMAinsight: Covid live: Delta variant becoming globally dominant, WHO says as expert calls Africa’s case trajectory ‘very, very concern…',\n",
       " 'RT @CDCgov: You can get a #COVID19 vaccine and other vaccines, including flu and shingles, at the same visit. You no longer need to wait 14…',\n",
       " 'News from the African Continent https://t.co/2TdVtI4Ivt #news #Africa Thanks to @HimanshuJayhind #tigray #covid19',\n",
       " 'RT @WhosWhoRSA: News from the African Continent https://t.co/2TdVtI4Ivt #news #Africa Thanks to @HimanshuJayhind #tigray #covid19',\n",
       " 'Agree with you but unfortunately pharma is so corrupt all.the jabs are bad.',\n",
       " 'RT @shawajason: Liars. You tried to load off your expired vaccines. Just another war crime by Israel. https://t.co/TI0vK8DQLw',\n",
       " \"RT @AmitAryaMD: List of vaccines which don't work against #COVID19 variants after 2 doses:\\n\\n1.\\n2.\\n3. \\n4. \\n\\nPlease...go and get vaccinated! 💉\",\n",
       " 'Are #Covid19 Vaccines really Free @POTUS @VP ? That serial espoused claim by Joe Biden is highly bogus and snake oi… https://t.co/giKD6J8Y5i',\n",
       " 'So...this vaccine was administered when they already had covid or...?!',\n",
       " 'RT @Bhekisisa_MG: Alpha, Beta &amp; Delta: We break down everything you need to know about the three #COVID19 variants that have been detected…',\n",
       " 'India should be well prepared for wave 3',\n",
       " 'RT @HealthZA: 18 June 2022 latest number of #COVID19 statistics in South Africa #CoronaVirusSA                              https://t.co/of…',\n",
       " 'It was at this point when I stopped watching.',\n",
       " '@POTUS @JoeBiden @CDCgov When asked whether a variant of #COVID19 https://t.co/0m3eUZLPov will lead to  lockdowns,… https://t.co/JT1KR4ABAp',\n",
       " 'RT @alisonsbread: @benitakolovos Ystrday I heard #ProfessorMaryLouiseMcLaws @UNSW say (I\\'m paraphrasing) \\n\"Vaccines in Aust shld B sent 2 V…',\n",
       " 'Pin Code:[411036] \\nGanga Nursing Home PMC P\\nVaccines: COVISHIELD,\\nMin Age Limit: [45,18],\\nDose1 Capacity: 0,1,\\nDose… https://t.co/WNxDMpj02M',\n",
       " 'Pin Code:[411038] \\nBSM-Deenanath Hosp Pvt PMC\\nVaccines: COVISHIELD,\\nMin Age Limit: [18,45],\\nDose1 Capacity: 1049,1,… https://t.co/8Ctwk4hzVF',\n",
       " 'Pin Code:[411004] \\nBMCC-DEENANATH HOSPITAL PVT\\nVaccines: COVISHIELD,\\nMin Age Limit: [18,45],\\nDose1 Capacity: 403,27… https://t.co/0PQfl426bs',\n",
       " 'Pin Code:[411041] \\nNavale Medical College\\nVaccines: COVISHIELD,\\nMin Age Limit: [18,45],\\nDose1 Capacity: 1,471,0,417… https://t.co/JcbTLi0Ri3',\n",
       " 'South Africa has recorded 10 510 new #coronavirus cases bringing the total to 1 796 589. The Department of Health h… https://t.co/8t2UkkxrTI',\n",
       " 'RT @globalhlthtwit: Dr Moeti is head of WHO in Africa, and one of the best public health experts and leaders I know. Hers is a desperate re…',\n",
       " 'RT @drmssm: Reassurance from Public Health England.',\n",
       " 'RT @SABCNews: South Africa has recorded 10 510 new #coronavirus cases bringing the total to 1 796 589. The Department of Health has also re…',\n",
       " 'Great news\\nEU bogged down in its own bureaucracy was late in placing order \\nThey wait their turn in the Queue😄🤓',\n",
       " 'RT @globalhlthtwit: Dr Moeti is head of WHO in Africa, and one of the best public health experts and leaders I know. Hers is a desperate re…',\n",
       " 'JUST IN: Alberta will celebrate Canada Day with the removal of essentially all #COVID19 restrictions. Premier Jason… https://t.co/rDVxZzHYUB',\n",
       " 'RT @globalhlthtwit: Dr Moeti is head of WHO in Africa, and one of the best public health experts and leaders I know. Hers is a desperate re…',\n",
       " '@KateSullivanDC @KateBerner46 The delta variant is spreading rapidly. Anyone that is NOT fully vaccinated is at ris… https://t.co/4e6s6lr9WI',\n",
       " 'RT @RutiMeyer: Correct',\n",
       " 'RT @RealJoelSmalley: Yet another amazingly qualified and courageous doctor, Roger Hodkinson, speaks out against the crazy government policy…',\n",
       " 'RT @UofCAHealth: #COVID19 vaccines are safe and do their job, so don’t worry if you experience any minor side effects, according to @CAPubl…',\n",
       " 'Proud to stand with @shailajateacher &amp; CM @vijayanpinarayi, two leaders from my home state of Kerala in this global… https://t.co/267LvZ3lgW',\n",
       " 'RT @picardonhealth: .@CalgaryStampede🐎requires #COVID19 vaccines for rodeo competitors, the first major sporting event in Canada to mandate…',\n",
       " 'RT @Laurie_Garrett: 4/ The latest @IMF scheme for \"equity\" in access to #COVID19 #vaccines offers cash to purchase --- but despite cash, co…',\n",
       " 'RT @IsraelMFA: Israel will deliver more than a million doses of #COVID19 vaccines to the Palestinian Authority to help it fight the corona…',\n",
       " 'RT @UN: Getting #COVID19 vaccines help:\\n🦠 slow the spread of the pandemic\\n👥👥 protect our loved ones &amp; communities.\\n\\n#OnlyTogether can we ov…',\n",
       " \"RT @giorgiogilestro: For most of the world's inhabitants, the pandemic is not over.\",\n",
       " 'RT @NathanStall: 👇👇👇\\n\\n\"People are free to believe that #COVID19 is a hoax, and to argue that vaccines are a plot...but there is no constitu…',\n",
       " 'RT @Vaxart: Appearing on @Benzinga Power Hour, Vaxart CEO Andrei Floroiu calls our oral #COVID19 tablet vaccine now under development \"revo…',\n",
       " 'RT @Laurie_Garrett: 3/...#COVID19 recovery, but promised Africa only $27/person. One top African officials said today to us, \"Rich countrie…',\n",
       " 'RT @SABCNews: South Africa has recorded 10 510 new #coronavirus cases bringing the total to 1 796 589. The Department of Health has also re…',\n",
       " 'RT @ncdhhs: #FridayVaccineFacts: what is #BringingSummerBack?\\n\\nBring Summer Back is a fun, flexible, community-centered approach to providi…',\n",
       " 'Are #Covid19 Vaccines really Free-Free @MSNBC? That serial claim by @WhiteHouse is highly bogus and snake oil IF US… https://t.co/m7Gt5dlPYO',\n",
       " 'RT @migovernment: .@GovWhitmer announces state will open to full capacity on June 22. More than nine million vaccines administered as new C…',\n",
       " 'RT @benphillips76: Governments, the World Health Organisation and NGOs around the world asked Pfizer to ensure that science will win, by le…',\n",
       " 'RT @itranslate123: @IsraelMFA Israel is a brutal nazi-like entity.... it sent EXPIRED vaccines to Palestinians to further worsen the covid1…',\n",
       " 'RT @shawajason: Liars. You tried to load off your expired vaccines. Just another war crime by Israel. https://t.co/MBBXzCwqqZ https://t.co/…',\n",
       " 'RT @davidpakmanshow: Lab Leak, Masks, and Vaccines with Dr. Ashish Jha \\n\\n@ashishkjha #COVID19\\n\\nWATCH: https://t.co/ccyGRMOhKA https://t.co/…',\n",
       " 'RT @SABCNews: South Africa has recorded 10 510 new #coronavirus cases bringing the total to 1 796 589. The Department of Health has also re…',\n",
       " \"RT @Laurie_Garrett: 2/ Despite promises made at #G7 most of the world, especially Africa, won't get #COVID19 #vaccines until 2022-23.\\nMeanw…\",\n",
       " '\"Africa is \\'in the midst of full-blown third wave\\' of coronavirus\"  https://t.co/8KyR690jP7',\n",
       " 'RT @YoureAllDunces: MSM Admits COVID Timeline False, Myocarditis Is A Serious Risk &amp; Johns Hopkins Doc Calls Out CDC https://t.co/q2LLVj3MF…',\n",
       " 'RT @CDCgov: How do we know #COVID19 vaccines are safe?\\n\\nCDC &amp; @US_FDA have safety monitoring systems to make sure every vaccine is as safe…',\n",
       " 'RT @globalhlthtwit: Dr Moeti is head of WHO in Africa, and one of the best public health experts and leaders I know. Hers is a desperate re…',\n",
       " 'RT @SNHDinfo: Are you bringing your 7th grader in for #BacktoSchool vaccines? Just a reminder that #COVID19 vaccine is available for kids a…',\n",
       " 'RT @SABCNews: South Africa has recorded 10 510 new #coronavirus cases bringing the total to 1 796 589. The Department of Health has also re…',\n",
       " 'RT @Winnie_Byanyima: We are dying! Ugandans need the world to stand with them. We need oxygen, PPEs, #COVID19 vaccines and money to pay our…',\n",
       " 'RT @JessOreilly1997: @JoeABCNews Why don’t some ppl understand that we are in a much worse position than last year? \\n\\nCOVID19 is evolving a…',\n",
       " 'RT @Astricella: *taps mic* \\n🗣The Delta (India) and Beta (South Africa) coronavirus variants have been detected in Senegal!\\n\\n1. Wear your ma…',\n",
       " 'RT @SABCNews: South Africa has recorded 10 510 new #coronavirus cases bringing the total to 1 796 589. The Department of Health has also re…',\n",
       " 'RT @SABCNews: South Africa has recorded 10 510 new #coronavirus cases bringing the total to 1 796 589. The Department of Health has also re…',\n",
       " ...]"
      ]
     },
     "metadata": {},
     "execution_count": 19
    }
   ],
   "source": [
    "c=TweetDfExtractor(tweet_list)\n",
    "c.find_full_text()\n",
    "#c.find_sentiments(y)\n",
    "#c.find_statuses_count()"
   ]
  },
  {
   "cell_type": "code",
   "execution_count": 82,
   "metadata": {},
   "outputs": [],
   "source": [
    "def find_sentiments(self, text)->list:\n",
    "        \n",
    "        return polarity, self.subjectivity"
   ]
  },
  {
   "cell_type": "code",
   "execution_count": 59,
   "metadata": {},
   "outputs": [],
   "source": [
    "def find_created_time(self)->list:\n",
    "       \n",
    "        return created_at"
   ]
  },
  {
   "cell_type": "code",
   "execution_count": null,
   "metadata": {},
   "outputs": [],
   "source": [
    "def find_source(self)->list:\n",
    "        source = \n",
    "        return source      "
   ]
  },
  {
   "cell_type": "code",
   "execution_count": null,
   "metadata": {},
   "outputs": [],
   "source": [
    "def find_screen_name(self)->list:\n",
    "        screen_name = "
   ]
  },
  {
   "cell_type": "code",
   "execution_count": null,
   "metadata": {},
   "outputs": [],
   "source": [
    "def find_followers_count(self)->list:\n",
    "        followers_count = "
   ]
  },
  {
   "cell_type": "code",
   "execution_count": null,
   "metadata": {},
   "outputs": [],
   "source": [
    "def find_friends_count(self)->list:\n",
    "        friends_count = "
   ]
  },
  {
   "cell_type": "code",
   "execution_count": null,
   "metadata": {},
   "outputs": [],
   "source": [
    "\n",
    "    def is_sensitive(self)->list:\n",
    "        try:\n",
    "            is_sensitive = [x['possibly_sensitive'] for x in self.tweets_list]\n",
    "        except KeyError:\n",
    "            is_sensitive = None\n",
    "\n",
    "        return is_sensitive"
   ]
  },
  {
   "cell_type": "code",
   "execution_count": null,
   "metadata": {},
   "outputs": [],
   "source": [
    "def find_favourite_count(self)->list:\n",
    "        "
   ]
  },
  {
   "cell_type": "code",
   "execution_count": null,
   "metadata": {},
   "outputs": [],
   "source": [
    "def find_retweet_count(self)->list:\n",
    "        retweet_count = "
   ]
  },
  {
   "cell_type": "code",
   "execution_count": null,
   "metadata": {},
   "outputs": [],
   "source": [
    " def find_hashtags(self)->list:\n",
    "        hashtags ="
   ]
  },
  {
   "cell_type": "code",
   "execution_count": null,
   "metadata": {},
   "outputs": [],
   "source": [
    "def find_mentions(self)->list:\n",
    "        mentions = "
   ]
  },
  {
   "cell_type": "code",
   "execution_count": null,
   "metadata": {},
   "outputs": [],
   "source": [
    "def find_location(self)->list:\n",
    "        try:\n",
    "            location = self.tweets_list['user']['location']\n",
    "        except TypeError:\n",
    "            location = ''\n",
    "        \n",
    "        return location\n"
   ]
  },
  {
   "cell_type": "code",
   "execution_count": null,
   "metadata": {},
   "outputs": [],
   "source": [
    "def get_tweet_df(self, save=False)->pd.DataFrame:\n",
    "        \"\"\"required column to be generated you should be creative and add more features\"\"\"\n",
    "        \n",
    "        columns = ['created_at', 'source', 'original_text','polarity','subjectivity', 'lang', 'favorite_count', 'retweet_count', \n",
    "            'original_author', 'followers_count','friends_count','possibly_sensitive', 'hashtags', 'user_mentions', 'place']\n",
    "        \n",
    "        created_at = self.find_created_time()\n",
    "        source = self.find_source()\n",
    "        text = self.find_full_text()\n",
    "        polarity, subjectivity = self.find_sentiments(text)\n",
    "        lang = self.find_lang()\n",
    "        fav_count = self.find_favourite_count()\n",
    "        retweet_count = self.find_retweet_count()\n",
    "        screen_name = self.find_screen_name()\n",
    "        follower_count = self.find_followers_count()\n",
    "        friends_count = self.find_friends_count()\n",
    "        sensitivity = self.is_sensitive()\n",
    "        hashtags = self.find_hashtags()\n",
    "        mentions = self.find_mentions()\n",
    "        location = self.find_location()\n",
    "        data = zip(created_at, source, text, polarity, subjectivity, lang, fav_count, retweet_count, screen_name, follower_count, friends_count, sensitivity, hashtags, mentions, location)\n",
    "        df = pd.DataFrame(data=data, columns=columns)\n",
    "\n",
    "        if save:\n",
    "            df.to_csv('processed_tweet_data.csv', index=False)\n",
    "            print('File Successfully Saved.!!!')\n",
    "        \n",
    "        return df"
   ]
  },
  {
   "cell_type": "code",
   "execution_count": 30,
   "metadata": {},
   "outputs": [],
   "source": [
    "def TweetDfExtractor(self,tweet_list):\n",
    "    tweett= tweet_list\n",
    "    return tweett"
   ]
  },
  {
   "cell_type": "code",
   "execution_count": 8,
   "metadata": {},
   "outputs": [
    {
     "output_type": "error",
     "ename": "AttributeError",
     "evalue": "'TweetDfExtractor' object has no attribute 'get_tweet_df'",
     "traceback": [
      "\u001b[0;31m---------------------------------------------------------------------------\u001b[0m",
      "\u001b[0;31mAttributeError\u001b[0m                            Traceback (most recent call last)",
      "\u001b[0;32m<ipython-input-8-f3ed31787b3a>\u001b[0m in \u001b[0;36m<module>\u001b[0;34m\u001b[0m\n\u001b[1;32m      5\u001b[0m     \u001b[0m_\u001b[0m\u001b[0;34m,\u001b[0m \u001b[0mtweet_list\u001b[0m \u001b[0;34m=\u001b[0m \u001b[0mread_json\u001b[0m\u001b[0;34m(\u001b[0m\u001b[0;34m\"data/covid19.json\"\u001b[0m\u001b[0;34m)\u001b[0m\u001b[0;34m\u001b[0m\u001b[0;34m\u001b[0m\u001b[0m\n\u001b[1;32m      6\u001b[0m     \u001b[0mtweet\u001b[0m \u001b[0;34m=\u001b[0m \u001b[0mTweetDfExtractor\u001b[0m\u001b[0;34m(\u001b[0m\u001b[0mtweet_list\u001b[0m\u001b[0;34m)\u001b[0m\u001b[0;34m\u001b[0m\u001b[0;34m\u001b[0m\u001b[0m\n\u001b[0;32m----> 7\u001b[0;31m     \u001b[0mtweet_df\u001b[0m \u001b[0;34m=\u001b[0m \u001b[0mtweet\u001b[0m\u001b[0;34m.\u001b[0m\u001b[0mget_tweet_df\u001b[0m\u001b[0;34m(\u001b[0m\u001b[0;34m)\u001b[0m\u001b[0;34m\u001b[0m\u001b[0;34m\u001b[0m\u001b[0m\n\u001b[0m\u001b[1;32m      8\u001b[0m \u001b[0;34m\u001b[0m\u001b[0m\n\u001b[1;32m      9\u001b[0m     \u001b[0;31m# use all defined functions to generate a dataframe with the specified columns above\u001b[0m\u001b[0;34m\u001b[0m\u001b[0;34m\u001b[0m\u001b[0;34m\u001b[0m\u001b[0m\n",
      "\u001b[0;31mAttributeError\u001b[0m: 'TweetDfExtractor' object has no attribute 'get_tweet_df'"
     ]
    }
   ],
   "source": [
    "if __name__ == \"__main__\":\n",
    "    # required column to be generated you should be creative and add more features\n",
    "    columns = ['created_at', 'source', 'original_text','clean_text', 'sentiment','polarity','subjectivity', 'lang', 'favorite_count', 'retweet_count', \n",
    "    'original_author', 'screen_count', 'followers_count','friends_count','possibly_sensitive', 'hashtags', 'user_mentions', 'place', 'place_coord_boundaries']\n",
    "    _, tweet_list = read_json(\"data/covid19.json\")\n",
    "    tweet = TweetDfExtractor(tweet_list)\n",
    "    tweet_df = tweet.get_tweet_df() \n",
    "\n",
    "    # use all defined functions to generate a dataframe with the specified columns above"
   ]
  },
  {
   "cell_type": "code",
   "execution_count": null,
   "metadata": {},
   "outputs": [],
   "source": []
  }
 ]
}